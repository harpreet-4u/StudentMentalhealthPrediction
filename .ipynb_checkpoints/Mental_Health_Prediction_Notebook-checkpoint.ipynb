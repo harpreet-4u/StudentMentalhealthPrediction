{
 "cells": [
  {
   "cell_type": "markdown",
   "id": "1e54e76d",
   "metadata": {},
   "source": [
    "# Mental Health Prediction of Students\n",
    "Using Lifestyle and Academic Factors"
   ]
  },
  {
   "cell_type": "markdown",
   "id": "1505ff15",
   "metadata": {},
   "source": [
    "## Step 1: Import Libraries"
   ]
  },
  {
   "cell_type": "code",
   "execution_count": null,
   "id": "695353ca",
   "metadata": {},
   "outputs": [],
   "source": [
    "import pandas as pd\n",
    "import matplotlib.pyplot as plt\n",
    "import seaborn as sns\n",
    "from sklearn.model_selection import train_test_split\n",
    "from sklearn.preprocessing import LabelEncoder\n",
    "from sklearn.tree import DecisionTreeClassifier\n",
    "from sklearn.metrics import classification_report, confusion_matrix, accuracy_score"
   ]
  },
  {
   "cell_type": "markdown",
   "id": "baf9c9b8",
   "metadata": {},
   "source": [
    "## Step 2: Load Dataset"
   ]
  },
  {
   "cell_type": "code",
   "execution_count": null,
   "id": "ef4f5d96",
   "metadata": {},
   "outputs": [],
   "source": [
    "# Load the dataset\n",
    "df = pd.read_csv(\"mental_health_dataset_1000.csv\")\n",
    "df.head()"
   ]
  },
  {
   "cell_type": "markdown",
   "id": "b1667b06",
   "metadata": {},
   "source": [
    "## Step 3: Encode Target Labels"
   ]
  },
  {
   "cell_type": "code",
   "execution_count": null,
   "id": "49d8803b",
   "metadata": {},
   "outputs": [],
   "source": [
    "# Encode the stress level column\n",
    "label_encoder = LabelEncoder()\n",
    "df['Stress_Level_Encoded'] = label_encoder.fit_transform(df['Stress_Level'])"
   ]
  },
  {
   "cell_type": "markdown",
   "id": "cd152280",
   "metadata": {},
   "source": [
    "## Step 4: Prepare Features and Target"
   ]
  },
  {
   "cell_type": "code",
   "execution_count": null,
   "id": "50e6c278",
   "metadata": {},
   "outputs": [],
   "source": [
    "X = df.drop(columns=['Stress_Level', 'Stress_Level_Encoded'])\n",
    "y = df['Stress_Level_Encoded']"
   ]
  },
  {
   "cell_type": "markdown",
   "id": "06f0a613",
   "metadata": {},
   "source": [
    "## Step 5: Train-Test Split"
   ]
  },
  {
   "cell_type": "code",
   "execution_count": null,
   "id": "98ff0074",
   "metadata": {},
   "outputs": [],
   "source": [
    "X_train, X_test, y_train, y_test = train_test_split(X, y, test_size=0.2, random_state=42)"
   ]
  },
  {
   "cell_type": "markdown",
   "id": "d24b78b6",
   "metadata": {},
   "source": [
    "## Step 6: Train Model (Decision Tree Classifier)"
   ]
  },
  {
   "cell_type": "code",
   "execution_count": null,
   "id": "6b13fbb1",
   "metadata": {},
   "outputs": [],
   "source": [
    "model = DecisionTreeClassifier(random_state=42)\n",
    "model.fit(X_train, y_train)"
   ]
  },
  {
   "cell_type": "markdown",
   "id": "5a0fa1bb",
   "metadata": {},
   "source": [
    "## Step 7: Make Predictions and Evaluate"
   ]
  },
  {
   "cell_type": "code",
   "execution_count": null,
   "id": "daa078c6",
   "metadata": {},
   "outputs": [],
   "source": [
    "y_pred = model.predict(X_test)\n",
    "\n",
    "accuracy = accuracy_score(y_test, y_pred)\n",
    "conf_matrix = confusion_matrix(y_test, y_pred)\n",
    "report = classification_report(y_test, y_pred, target_names=label_encoder.classes_)\n",
    "\n",
    "print(\"Accuracy:\", accuracy)\n",
    "print(\"\\nClassification Report:\\n\", report)"
   ]
  },
  {
   "cell_type": "markdown",
   "id": "4b989539",
   "metadata": {},
   "source": [
    "## Step 8: Visualize Confusion Matrix"
   ]
  },
  {
   "cell_type": "code",
   "execution_count": null,
   "id": "c00ca7ad",
   "metadata": {},
   "outputs": [],
   "source": [
    "plt.figure(figsize=(6, 4))\n",
    "sns.heatmap(conf_matrix, annot=True, fmt='d', cmap='Blues',\n",
    "            xticklabels=label_encoder.classes_,\n",
    "            yticklabels=label_encoder.classes_)\n",
    "plt.title('Confusion Matrix')\n",
    "plt.xlabel('Predicted')\n",
    "plt.ylabel('Actual')\n",
    "plt.tight_layout()\n",
    "plt.show()"
   ]
  },
  {
   "cell_type": "markdown",
   "id": "5d16a495",
   "metadata": {},
   "source": [
    "## Conclusion\n",
    "The model accurately classifies students' stress levels based on their lifestyle and academic performance using a Decision Tree Classifier. This project demonstrates how Machine Learning can be used for early identification of mental health risks in students."
   ]
  }
 ],
 "metadata": {},
 "nbformat": 4,
 "nbformat_minor": 5
}
